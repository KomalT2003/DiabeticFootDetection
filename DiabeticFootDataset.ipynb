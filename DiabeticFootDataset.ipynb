{
  "nbformat": 4,
  "nbformat_minor": 0,
  "metadata": {
    "colab": {
      "provenance": [],
      "gpuType": "T4",
      "authorship_tag": "ABX9TyOHZ4cOqLnPBXNS9Pa/lnop",
      "include_colab_link": true
    },
    "kernelspec": {
      "name": "python3",
      "display_name": "Python 3"
    },
    "language_info": {
      "name": "python"
    },
    "accelerator": "GPU"
  },
  "cells": [
    {
      "cell_type": "markdown",
      "metadata": {
        "id": "view-in-github",
        "colab_type": "text"
      },
      "source": [
        "<a href=\"https://colab.research.google.com/github/KomalT2003/DiabeticFootDetection/blob/main/DiabeticFootDataset.ipynb\" target=\"_parent\"><img src=\"https://colab.research.google.com/assets/colab-badge.svg\" alt=\"Open In Colab\"/></a>"
      ]
    },
    {
      "cell_type": "markdown",
      "source": [
        "Install Tensorflow and other libraries"
      ],
      "metadata": {
        "id": "HV_wGArTCWxK"
      }
    },
    {
      "cell_type": "code",
      "source": [
        "# step 1: install tensorflow and other libraries\n",
        "!pip install tensorflow"
      ],
      "metadata": {
        "colab": {
          "base_uri": "https://localhost:8080/"
        },
        "id": "HFUq-pPPCVV_",
        "outputId": "aae1f570-0dfe-4315-d52e-940a41f3252e"
      },
      "execution_count": null,
      "outputs": [
        {
          "output_type": "stream",
          "name": "stdout",
          "text": [
            "Requirement already satisfied: tensorflow in /usr/local/lib/python3.10/dist-packages (2.17.0)\n",
            "Requirement already satisfied: absl-py>=1.0.0 in /usr/local/lib/python3.10/dist-packages (from tensorflow) (1.4.0)\n",
            "Requirement already satisfied: astunparse>=1.6.0 in /usr/local/lib/python3.10/dist-packages (from tensorflow) (1.6.3)\n",
            "Requirement already satisfied: flatbuffers>=24.3.25 in /usr/local/lib/python3.10/dist-packages (from tensorflow) (24.3.25)\n",
            "Requirement already satisfied: gast!=0.5.0,!=0.5.1,!=0.5.2,>=0.2.1 in /usr/local/lib/python3.10/dist-packages (from tensorflow) (0.6.0)\n",
            "Requirement already satisfied: google-pasta>=0.1.1 in /usr/local/lib/python3.10/dist-packages (from tensorflow) (0.2.0)\n",
            "Requirement already satisfied: h5py>=3.10.0 in /usr/local/lib/python3.10/dist-packages (from tensorflow) (3.11.0)\n",
            "Requirement already satisfied: libclang>=13.0.0 in /usr/local/lib/python3.10/dist-packages (from tensorflow) (18.1.1)\n",
            "Requirement already satisfied: ml-dtypes<0.5.0,>=0.3.1 in /usr/local/lib/python3.10/dist-packages (from tensorflow) (0.4.1)\n",
            "Requirement already satisfied: opt-einsum>=2.3.2 in /usr/local/lib/python3.10/dist-packages (from tensorflow) (3.4.0)\n",
            "Requirement already satisfied: packaging in /usr/local/lib/python3.10/dist-packages (from tensorflow) (24.1)\n",
            "Requirement already satisfied: protobuf!=4.21.0,!=4.21.1,!=4.21.2,!=4.21.3,!=4.21.4,!=4.21.5,<5.0.0dev,>=3.20.3 in /usr/local/lib/python3.10/dist-packages (from tensorflow) (3.20.3)\n",
            "Requirement already satisfied: requests<3,>=2.21.0 in /usr/local/lib/python3.10/dist-packages (from tensorflow) (2.32.3)\n",
            "Requirement already satisfied: setuptools in /usr/local/lib/python3.10/dist-packages (from tensorflow) (71.0.4)\n",
            "Requirement already satisfied: six>=1.12.0 in /usr/local/lib/python3.10/dist-packages (from tensorflow) (1.16.0)\n",
            "Requirement already satisfied: termcolor>=1.1.0 in /usr/local/lib/python3.10/dist-packages (from tensorflow) (2.4.0)\n",
            "Requirement already satisfied: typing-extensions>=3.6.6 in /usr/local/lib/python3.10/dist-packages (from tensorflow) (4.12.2)\n",
            "Requirement already satisfied: wrapt>=1.11.0 in /usr/local/lib/python3.10/dist-packages (from tensorflow) (1.16.0)\n",
            "Requirement already satisfied: grpcio<2.0,>=1.24.3 in /usr/local/lib/python3.10/dist-packages (from tensorflow) (1.64.1)\n",
            "Requirement already satisfied: tensorboard<2.18,>=2.17 in /usr/local/lib/python3.10/dist-packages (from tensorflow) (2.17.0)\n",
            "Requirement already satisfied: keras>=3.2.0 in /usr/local/lib/python3.10/dist-packages (from tensorflow) (3.4.1)\n",
            "Requirement already satisfied: tensorflow-io-gcs-filesystem>=0.23.1 in /usr/local/lib/python3.10/dist-packages (from tensorflow) (0.37.1)\n",
            "Requirement already satisfied: numpy<2.0.0,>=1.23.5 in /usr/local/lib/python3.10/dist-packages (from tensorflow) (1.26.4)\n",
            "Requirement already satisfied: wheel<1.0,>=0.23.0 in /usr/local/lib/python3.10/dist-packages (from astunparse>=1.6.0->tensorflow) (0.44.0)\n",
            "Requirement already satisfied: rich in /usr/local/lib/python3.10/dist-packages (from keras>=3.2.0->tensorflow) (13.8.1)\n",
            "Requirement already satisfied: namex in /usr/local/lib/python3.10/dist-packages (from keras>=3.2.0->tensorflow) (0.0.8)\n",
            "Requirement already satisfied: optree in /usr/local/lib/python3.10/dist-packages (from keras>=3.2.0->tensorflow) (0.12.1)\n",
            "Requirement already satisfied: charset-normalizer<4,>=2 in /usr/local/lib/python3.10/dist-packages (from requests<3,>=2.21.0->tensorflow) (3.3.2)\n",
            "Requirement already satisfied: idna<4,>=2.5 in /usr/local/lib/python3.10/dist-packages (from requests<3,>=2.21.0->tensorflow) (3.10)\n",
            "Requirement already satisfied: urllib3<3,>=1.21.1 in /usr/local/lib/python3.10/dist-packages (from requests<3,>=2.21.0->tensorflow) (2.2.3)\n",
            "Requirement already satisfied: certifi>=2017.4.17 in /usr/local/lib/python3.10/dist-packages (from requests<3,>=2.21.0->tensorflow) (2024.8.30)\n",
            "Requirement already satisfied: markdown>=2.6.8 in /usr/local/lib/python3.10/dist-packages (from tensorboard<2.18,>=2.17->tensorflow) (3.7)\n",
            "Requirement already satisfied: tensorboard-data-server<0.8.0,>=0.7.0 in /usr/local/lib/python3.10/dist-packages (from tensorboard<2.18,>=2.17->tensorflow) (0.7.2)\n",
            "Requirement already satisfied: werkzeug>=1.0.1 in /usr/local/lib/python3.10/dist-packages (from tensorboard<2.18,>=2.17->tensorflow) (3.0.4)\n",
            "Requirement already satisfied: MarkupSafe>=2.1.1 in /usr/local/lib/python3.10/dist-packages (from werkzeug>=1.0.1->tensorboard<2.18,>=2.17->tensorflow) (2.1.5)\n",
            "Requirement already satisfied: markdown-it-py>=2.2.0 in /usr/local/lib/python3.10/dist-packages (from rich->keras>=3.2.0->tensorflow) (3.0.0)\n",
            "Requirement already satisfied: pygments<3.0.0,>=2.13.0 in /usr/local/lib/python3.10/dist-packages (from rich->keras>=3.2.0->tensorflow) (2.18.0)\n",
            "Requirement already satisfied: mdurl~=0.1 in /usr/local/lib/python3.10/dist-packages (from markdown-it-py>=2.2.0->rich->keras>=3.2.0->tensorflow) (0.1.2)\n"
          ]
        }
      ]
    },
    {
      "cell_type": "code",
      "source": [
        "# STEP 2: Import Libraries\n",
        "import os\n",
        "import numpy as np\n",
        "import tensorflow as tf\n",
        "from tensorflow.keras.preprocessing.image import ImageDataGenerator\n",
        "from tensorflow.keras import layers, models\n",
        "from sklearn.utils import class_weight\n",
        "from google.colab import drive\n"
      ],
      "metadata": {
        "id": "2fuhrZKNCgST"
      },
      "execution_count": null,
      "outputs": []
    },
    {
      "cell_type": "code",
      "source": [
        "from google.colab import drive\n",
        "drive.mount('/content/drive')\n"
      ],
      "metadata": {
        "colab": {
          "base_uri": "https://localhost:8080/"
        },
        "id": "D4_8hrAoC1l3",
        "outputId": "ff8377ef-c22b-44c3-b0a5-5744ccbe1f97"
      },
      "execution_count": null,
      "outputs": [
        {
          "output_type": "stream",
          "name": "stdout",
          "text": [
            "Mounted at /content/drive\n"
          ]
        }
      ]
    },
    {
      "cell_type": "code",
      "source": [
        "# Define paths to training and validation datasets\n",
        "base_path = '/content/drive/MyDrive/Dataset'\n",
        "train_path = os.path.join(base_path, 'Train')\n",
        "val_path = os.path.join(base_path, 'Validation')\n",
        "\n",
        "# Check if the directories exist\n",
        "if not os.path.exists(train_path):\n",
        "    raise FileNotFoundError(f\"Training directory does not exist: {train_path}\")\n",
        "if not os.path.exists(val_path):\n",
        "    raise FileNotFoundError(f\"Validation directory does not exist: {val_path}\")\n"
      ],
      "metadata": {
        "id": "uqXYpw1lxFSZ"
      },
      "execution_count": null,
      "outputs": []
    },
    {
      "cell_type": "code",
      "source": [
        "def check_directory_contents(base_path):\n",
        "    classes = ['Normal', 'Controlled', 'DFC']\n",
        "    orientations = ['Front', 'Back', 'Nailbed']\n",
        "\n",
        "    for class_name in classes:\n",
        "        for orientation in orientations:\n",
        "            path = os.path.join(base_path, class_name, orientation)\n",
        "            if os.path.exists(path):\n",
        "                num_images = len(os.listdir(path))\n",
        "                print(f\"Found {num_images} images in: {path}\")\n",
        "            else:\n",
        "                print(f\"Directory does not exist: {path}\")\n",
        "\n",
        "print(\"Checking training directories:\")\n",
        "check_directory_contents(train_path)\n",
        "\n",
        "print(\"\\nChecking validation directories:\")\n",
        "check_directory_contents(val_path)\n"
      ],
      "metadata": {
        "colab": {
          "base_uri": "https://localhost:8080/"
        },
        "id": "JW7u7OrdzJDg",
        "outputId": "16c9faa9-3dcb-4766-d0f4-33222edb4072"
      },
      "execution_count": null,
      "outputs": [
        {
          "output_type": "stream",
          "name": "stdout",
          "text": [
            "Checking training directories:\n",
            "Found 11 images in: /content/drive/MyDrive/Dataset/Train/Normal/Front\n",
            "Found 11 images in: /content/drive/MyDrive/Dataset/Train/Normal/Back\n",
            "Found 11 images in: /content/drive/MyDrive/Dataset/Train/Normal/Nailbed\n",
            "Found 76 images in: /content/drive/MyDrive/Dataset/Train/Controlled/Front\n",
            "Found 64 images in: /content/drive/MyDrive/Dataset/Train/Controlled/Back\n",
            "Found 38 images in: /content/drive/MyDrive/Dataset/Train/Controlled/Nailbed\n",
            "Found 97 images in: /content/drive/MyDrive/Dataset/Train/DFC/Front\n",
            "Found 85 images in: /content/drive/MyDrive/Dataset/Train/DFC/Back\n",
            "Found 63 images in: /content/drive/MyDrive/Dataset/Train/DFC/Nailbed\n",
            "\n",
            "Checking validation directories:\n",
            "Found 3 images in: /content/drive/MyDrive/Dataset/Validation/Normal/Front\n",
            "Found 3 images in: /content/drive/MyDrive/Dataset/Validation/Normal/Back\n",
            "Found 3 images in: /content/drive/MyDrive/Dataset/Validation/Normal/Nailbed\n",
            "Found 7 images in: /content/drive/MyDrive/Dataset/Validation/Controlled/Front\n",
            "Found 8 images in: /content/drive/MyDrive/Dataset/Validation/Controlled/Back\n",
            "Found 12 images in: /content/drive/MyDrive/Dataset/Validation/Controlled/Nailbed\n",
            "Found 9 images in: /content/drive/MyDrive/Dataset/Validation/DFC/Front\n",
            "Found 9 images in: /content/drive/MyDrive/Dataset/Validation/DFC/Back\n",
            "Found 9 images in: /content/drive/MyDrive/Dataset/Validation/DFC/Nailbed\n"
          ]
        }
      ]
    },
    {
      "cell_type": "code",
      "source": [
        "def create_generators(category, orientation):\n",
        "    train_dir = os.path.join(train_path, category, orientation)\n",
        "    val_dir = os.path.join(val_path, category, orientation)\n",
        "\n",
        "    train_generator = train_datagen.flow_from_directory(\n",
        "        train_dir,\n",
        "        target_size=image_size,\n",
        "        batch_size=batch_size,\n",
        "        classes=[category],  # Specify the class based on the folder\n",
        "        class_mode='categorical',  # Ensure categorical mode for one-hot encoding\n",
        "        shuffle=True\n",
        "    )\n",
        "\n",
        "    validation_generator = val_datagen.flow_from_directory(\n",
        "        val_dir,\n",
        "        target_size=image_size,\n",
        "        batch_size=batch_size,\n",
        "        classes=[category],  # Specify the class based on the folder\n",
        "        class_mode='categorical',  # Ensure categorical mode for one-hot encoding\n",
        "        shuffle=False\n",
        "    )\n",
        "\n",
        "    return train_generator, validation_generator\n",
        "\n"
      ],
      "metadata": {
        "id": "LoaiO8WuzSC-"
      },
      "execution_count": null,
      "outputs": []
    },
    {
      "cell_type": "code",
      "source": [
        "def build_model():\n",
        "    model = models.Sequential([\n",
        "        layers.Input(shape=(224, 224, 3)),\n",
        "        tf.keras.applications.EfficientNetB0(weights='imagenet', include_top=False, pooling='avg'),\n",
        "        layers.Dense(3, activation='softmax')  # 3 classes: Normal, Controlled, Severe\n",
        "    ])\n",
        "\n",
        "    model.compile(optimizer='adam',\n",
        "                  loss='categorical_crossentropy',\n",
        "                  metrics=['accuracy'])\n",
        "\n",
        "    return model\n"
      ],
      "metadata": {
        "id": "CRNNUQjhzX52"
      },
      "execution_count": null,
      "outputs": []
    },
    {
      "cell_type": "code",
      "source": [
        "import os\n",
        "from tensorflow.keras.preprocessing.image import ImageDataGenerator\n",
        "\n",
        "# Define paths\n",
        "train_path = '/content/drive/MyDrive/Dataset/Train'\n",
        "val_path = '/content/drive/MyDrive/Dataset/Validation'\n",
        "\n",
        "# Define image data generators\n",
        "batch_size = 32\n",
        "image_size = (224, 224)\n",
        "\n",
        "train_datagen = ImageDataGenerator(rescale=1.0/255.0)\n",
        "val_datagen = ImageDataGenerator(rescale=1.0/255.0)\n",
        "\n",
        "# Define orientations\n",
        "orientations = ['Front', 'Back', 'Nailbed']\n",
        "categories = ['Normal', 'Controlled', 'Severe']\n",
        "\n",
        "# Function to create data generators\n",
        "def create_generators(orientation):\n",
        "    train_dir = os.path.join(train_path, orientation)  # Changed here\n",
        "    val_dir = os.path.join(val_path, orientation)      # Changed here\n",
        "\n",
        "    print(f\"Training Directory: {train_dir} - Images: {len(os.listdir(train_dir)) if os.path.exists(train_dir) else 'Directory does not exist'}\")\n",
        "    print(f\"Validation Directory: {val_dir} - Images: {len(os.listdir(val_dir)) if os.path.exists(val_dir) else 'Directory does not exist'}\")\n",
        "\n",
        "    train_generator = train_datagen.flow_from_directory(\n",
        "        train_dir,\n",
        "        target_size=image_size,\n",
        "        batch_size=batch_size,\n",
        "        class_mode='categorical',  # For multi-class classification\n",
        "        shuffle=True\n",
        "    )\n",
        "\n",
        "    validation_generator = val_datagen.flow_from_directory(\n",
        "        val_dir,\n",
        "        target_size=image_size,\n",
        "        batch_size=batch_size,\n",
        "        class_mode='categorical',\n",
        "        shuffle=False\n",
        "    )\n",
        "\n",
        "    # Check if classes are recognized\n",
        "    print(f\"Classes found in training generator: {train_generator.class_indices}\")\n",
        "    print(f\"Classes found in validation generator: {validation_generator.class_indices}\")\n",
        "\n",
        "    return train_generator, validation_generator\n",
        "\n",
        "# Build and train models for each orientation\n",
        "for orientation in orientations:\n",
        "    print(f\"\\nTraining model for orientation: {orientation}\")\n",
        "    train_gen, val_gen = create_generators(orientation)\n",
        "\n",
        "    # Build and train the model\n",
        "    model = build_model()  # Assuming build_model is defined elsewhere\n",
        "    history = model.fit(\n",
        "        train_gen,\n",
        "        validation_data=val_gen,\n",
        "        epochs=10  # Adjust epochs as needed\n",
        "    )\n",
        "\n"
      ],
      "metadata": {
        "colab": {
          "base_uri": "https://localhost:8080/"
        },
        "id": "DsUiCR_Dzc40",
        "outputId": "5ce44c12-dcd8-425a-b84f-851774ff581c"
      },
      "execution_count": null,
      "outputs": [
        {
          "output_type": "stream",
          "name": "stdout",
          "text": [
            "\n",
            "Training model for Normal - Front orientation\n",
            "Training Directory: /content/drive/MyDrive/Dataset/Train/Normal/Front - Images: 11\n",
            "Validation Directory: /content/drive/MyDrive/Dataset/Validation/Normal/Front - Images: 3\n",
            "Found 33 images belonging to 1 classes.\n",
            "Found 9 images belonging to 1 classes.\n",
            "Classes found in training generator: {'Normal': 0}\n",
            "Classes found in validation generator: {'Normal': 0}\n"
          ]
        }
      ]
    }
  ]
}